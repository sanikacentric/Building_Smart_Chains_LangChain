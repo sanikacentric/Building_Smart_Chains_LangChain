{
 "cells": [
  {
   "cell_type": "code",
   "execution_count": null,
   "metadata": {
    "colab": {
     "base_uri": "https://localhost:8080/",
     "height": 1000
    },
    "id": "HrP9EXJno7sq",
    "outputId": "84793f86-b6ad-496c-a58a-1c28c7543c43"
   },
   "outputs": [],
   "source": [
    "!pip install torch\n",
    "!pip install torchvision\n",
    "!pip install torchaudio\n",
    "!pip install torchtext\n",
    "!pip install datasets\n",
    "!pip install tokenizers\n",
    "!pip install torchmetrics\n",
    "!pip install tensorboard\n",
    "!pip install altair\n",
    "!pip install wandb\n",
    "!pip install spacy\n",
    "!pip install torchinfo\n",
    "!pip install scikit-learn\n",
    "!pip install langchain-core\n",
    "!pip install langchain-community\n",
    "!pip install langchain_groq\n",
    "!pip install sentence-transformers\n",
    "!pip install faiss-cpu\n",
    "!pip install langchain_google_genai\n",
    "!pip install langchain_anthropic\n",
    "!pip install langchain_huggingface\n",
    "!pip install langchain_openai\n",
    "!pip install grandalf\n"
   ]
  },
  {
   "cell_type": "code",
   "execution_count": null,
   "metadata": {
    "id": "e8qCDjtlSDQl"
   },
   "outputs": [],
   "source": [
    "from langchain_core.prompts import ChatPromptTemplate"
   ]
  },
  {
   "cell_type": "code",
   "execution_count": null,
   "metadata": {
    "id": "tN6ERNs5VoMp"
   },
   "outputs": [],
   "source": [
    "from langchain_google_genai import ChatGoogleGenerativeAI\n",
    "from langchain_groq import ChatGroq\n",
    "from langchain_openai import ChatOpenAI\n",
    "#from langchain_anthropic import ChatAnthropic\n",
    "from langchain_huggingface import ChatHuggingFace, HuggingFaceEndpoint"
   ]
  },
  {
   "cell_type": "code",
   "execution_count": null,
   "metadata": {
    "id": "vsAiI7bPqJtk"
   },
   "outputs": [],
   "source": [
    "from google.colab import userdata\n",
    "groq_api_key=userdata.get('groq_api_key')\n",
    "HF_TOKEN=userdata.get('HF_TOKEN')\n",
    "#print(groq_api_key)\n",
    "#print(HF_TOKEN)\n",
    "OPENAI_API_KEY=userdata.get('OPENAI_API_KEY')\n",
    "#print(OPENAI_API_KEY)\n",
    "GOOGLE_API_KEY=userdata.get('GOOGLE_API_KEY')\n",
    "#print(GOOGLE_API_KEY)\n",
    "langsmith=userdata.get('LANGSMITH_API_KEY')\n",
    "#print(langsmith)"
   ]
  },
  {
   "cell_type": "code",
   "execution_count": null,
   "metadata": {
    "id": "zmzaH_csV0PY"
   },
   "outputs": [],
   "source": [
    "import os\n",
    "os.environ[\"OPENAI_API_KEY\"] = userdata.get(\"OPENAI_API_KEY\")"
   ]
  },
  {
   "cell_type": "code",
   "execution_count": null,
   "metadata": {
    "id": "P5UmKJaGV3WR"
   },
   "outputs": [],
   "source": [
    "openai_model=ChatOpenAI(model=\"gpt-4o-mini\",temperature=0)"
   ]
  },
  {
   "cell_type": "code",
   "execution_count": null,
   "metadata": {
    "id": "QKrIhZ_fSkX0"
   },
   "outputs": [],
   "source": [
    "####prompt template use at run time and chat prompt template we can have list of templates\n",
    "###list of messages for chatprompttemplate(System message, ai message, human message)\n",
    "###define tuple over here\n",
    "\n",
    "chat_template=ChatPromptTemplate(\n",
    "    [\n",
    "        (\"system\",\"you are a helpful {domain} expert\"),\n",
    "        (\"human\",\"explain the {topic} in simple terms\")\n",
    "    ]\n",
    ")"
   ]
  },
  {
   "cell_type": "code",
   "execution_count": null,
   "metadata": {
    "id": "H0eisMSKUx9i"
   },
   "outputs": [],
   "source": [
    "prompt=chat_template.invoke({\"domain\":\"medical\",\"topic\":\"maleria\"})"
   ]
  },
  {
   "cell_type": "code",
   "execution_count": null,
   "metadata": {
    "colab": {
     "base_uri": "https://localhost:8080/"
    },
    "id": "4fI1LvNgVAzx",
    "outputId": "de5bdabe-b031-4741-e5d0-1ee5f3be57de"
   },
   "outputs": [],
   "source": [
    "print(prompt)"
   ]
  },
  {
   "cell_type": "code",
   "execution_count": null,
   "metadata": {
    "id": "TiqPKSJ7VFDI"
   },
   "outputs": [],
   "source": [
    "##Complete prompt   messages=[SystemMessage(content='you are a helpful medical expert', additional_kwargs={}, response_metadata={}),\n",
    "#                             HumanMessage(content='explain the maleria in simple terms', additional_kwargs={}, response_metadata={})]"
   ]
  },
  {
   "cell_type": "code",
   "execution_count": null,
   "metadata": {
    "colab": {
     "base_uri": "https://localhost:8080/",
     "height": 109
    },
    "id": "Ap5jZRPCVgRx",
    "outputId": "2896127a-4093-4575-a2a2-51436ccdc25a"
   },
   "outputs": [],
   "source": [
    "openai_model.invoke(prompt).content"
   ]
  },
  {
   "cell_type": "code",
   "execution_count": null,
   "metadata": {
    "id": "XeDYQsoWWP15"
   },
   "outputs": [],
   "source": [
    "prompt = chat_template.invoke({\"domain\":\"education\",\"topic\":\"AI\"})"
   ]
  },
  {
   "cell_type": "code",
   "execution_count": null,
   "metadata": {
    "colab": {
     "base_uri": "https://localhost:8080/"
    },
    "id": "4dkWPgcVWRLv",
    "outputId": "0a9a6576-b427-4b86-d6cb-3493fcbaf0e8"
   },
   "outputs": [],
   "source": [
    "print(prompt)"
   ]
  },
  {
   "cell_type": "code",
   "execution_count": null,
   "metadata": {
    "colab": {
     "base_uri": "https://localhost:8080/"
    },
    "id": "enm7BN9xWSqx",
    "outputId": "0e9e805a-cdcc-471c-c011-730310055370"
   },
   "outputs": [],
   "source": [
    "openai_model.invoke(prompt)"
   ]
  },
  {
   "cell_type": "markdown",
   "metadata": {
    "id": "_N_Wes4FW0z4"
   },
   "source": [
    "#CHAINING\n",
    "#Chaining using LCEL\n"
   ]
  },
  {
   "cell_type": "code",
   "execution_count": null,
   "metadata": {
    "id": "4dtfe39MWz-X"
   },
   "outputs": [],
   "source": [
    "from langchain_core.output_parsers import StrOutputParser"
   ]
  },
  {
   "cell_type": "code",
   "execution_count": null,
   "metadata": {
    "id": "5XEVAE6IXAgH"
   },
   "outputs": [],
   "source": [
    "parser=StrOutputParser()"
   ]
  },
  {
   "cell_type": "code",
   "execution_count": null,
   "metadata": {
    "id": "7HemDZf0XOqX"
   },
   "outputs": [],
   "source": [
    "from langchain.prompts import PromptTemplate"
   ]
  },
  {
   "cell_type": "code",
   "execution_count": null,
   "metadata": {
    "id": "_9u5tWgpXDn_"
   },
   "outputs": [],
   "source": [
    "prompt=PromptTemplate(\n",
    "    template=\"can you give me a detail explaination of {topic}\",\n",
    "    input_variables=['topic']\n",
    "\n",
    ")"
   ]
  },
  {
   "cell_type": "code",
   "execution_count": null,
   "metadata": {
    "colab": {
     "base_uri": "https://localhost:8080/"
    },
    "id": "Ff7v4-B8X_Ll",
    "outputId": "33a1e961-0949-4154-e8f6-e4d6f90cd0c1"
   },
   "outputs": [],
   "source": [
    "prompt"
   ]
  },
  {
   "cell_type": "code",
   "execution_count": null,
   "metadata": {
    "colab": {
     "base_uri": "https://localhost:8080/"
    },
    "id": "fy0Pb-agYDGF",
    "outputId": "709a5d91-b4d3-4e94-835f-c4375dfedafa"
   },
   "outputs": [],
   "source": [
    "openai_model"
   ]
  },
  {
   "cell_type": "markdown",
   "metadata": {
    "id": "gCF6v3IfYHyt"
   },
   "source": [
    "#Simple LLM chain"
   ]
  },
  {
   "cell_type": "code",
   "execution_count": null,
   "metadata": {
    "id": "-3k-8DysYGDd"
   },
   "outputs": [],
   "source": [
    "chain= prompt|openai_model|parser"
   ]
  },
  {
   "cell_type": "code",
   "execution_count": null,
   "metadata": {
    "colab": {
     "base_uri": "https://localhost:8080/",
     "height": 109
    },
    "id": "SCaT0GMtYksU",
    "outputId": "73852ae2-0c14-4602-a6ed-b8f86e800744"
   },
   "outputs": [],
   "source": [
    "chain.invoke({\"topic\":\"machine learning\"})"
   ]
  },
  {
   "cell_type": "code",
   "execution_count": null,
   "metadata": {
    "colab": {
     "base_uri": "https://localhost:8080/"
    },
    "id": "cyRajTKhYsY-",
    "outputId": "8a93a754-0972-4808-fc91-e729c09a4b86"
   },
   "outputs": [],
   "source": [
    "chain.get_graph().print_ascii()"
   ]
  },
  {
   "cell_type": "markdown",
   "metadata": {
    "id": "sfjy3rVjftJ2"
   },
   "source": [
    "#Sequential chain using LCEL"
   ]
  },
  {
   "cell_type": "code",
   "execution_count": null,
   "metadata": {
    "id": "BtRV6_SefxLP"
   },
   "outputs": [],
   "source": [
    "prompt1=PromptTemplate(\n",
    "    template=\"get a detail report on {topic}\",\n",
    "    input_variables=[\"topic\"]\n",
    ")\n",
    "\n",
    "prompt2=PromptTemplate(\n",
    "    template=\"generate a 3 point of summary from the following {text}\",\n",
    "    input_variables=[\"text\"]\n",
    ")"
   ]
  },
  {
   "cell_type": "code",
   "execution_count": null,
   "metadata": {
    "id": "9zXHXFPUf6Jd"
   },
   "outputs": [],
   "source": [
    "text=\"\"\"In November 2023, xAI began previewing Grok as a chatbot to selected people,[10] with participation in the early access program being limited to paid X Premium users.[11]\n",
    "\n",
    "It was announced that once the bot was out of early beta, it would only be available to higher tier X Premium+ subscribers.[12]\n",
    "\n",
    "At the time of the preview, xAI described the chatbot as \"a very early beta product – the best we could do with 2 months of training\" that could \"improve rapidly with each passing week\".[13]\n",
    "\n",
    "On March 11, 2024, Musk posted on X that the language model would go open source within a week. Six days later, on March 17, Grok-1 was open sourced under the Apache-2.0 license.[14][15] Disclosed were the networks architecture and its weight parameters.[16]\n",
    "\n",
    "On March 26, 2024, Musk announced that Grok would be enabled for premium subscribers, not just those on the higher-end tier, Premium+.[17]\n",
    "\n",
    "Grok-1.5\n",
    "Grok-1.5\n",
    "Developer(s)\txAI\n",
    "Initial release\tMay 15, 2024; 10 months ago\n",
    "Predecessor\tGrok-1.5\n",
    "Successor\tGrok-2\n",
    "Type\n",
    "Large language model\n",
    "Foundation model\n",
    "License\tProprietary\n",
    "Website\tx.ai/blog/grok-1.5\n",
    "On March 29, 2024, Grok-1.5 was announced, with \"improved reasoning capabilities\" and a context length of 128,000 tokens.[18] Grok-1.5 was released to all X Premium users on May 15, 2024.[1]\n",
    "\n",
    "On April 4, 2024, an update to X's \"Explore\" page included summaries of breaking news stories written by Grok, a task previously assigned to a human curation team.[19]\n",
    "\n",
    "On April 12, 2024, Grok-1.5 Vision (Grok-1.5V) was announced. Grok-1.5V is able to process a wide variety of visual information, including documents, diagrams, graphs, screenshots, and photographs.[20] Grok-1.5V was never released to the public.\n",
    "\n",
    "On May 4, 2024, Grok became available in the United Kingdom,[21] that being the only country in Europe to support Grok at the moment due to the impending Artificial Intelligence Act rules in the European Union. Grok was later reviewed by the EU and was released on May 16, 2024.[22]\"\"\""
   ]
  },
  {
   "cell_type": "code",
   "execution_count": null,
   "metadata": {
    "id": "NQD-6Bk4f_E9"
   },
   "outputs": [],
   "source": [
    "prompt1=PromptTemplate(\n",
    "    template=\"analysis the the given text carefully {text} and take the necessary data\",\n",
    "    input_variables=[\"topic\"]\n",
    ")\n",
    "\n",
    "prompt2=PromptTemplate(\n",
    "    template=\"summarize the given text in 2 bullet points {text}\",\n",
    "    input_variables=[\"text\"]\n",
    ")"
   ]
  },
  {
   "cell_type": "code",
   "execution_count": null,
   "metadata": {
    "colab": {
     "base_uri": "https://localhost:8080/"
    },
    "id": "K0VgtbPqgDEE",
    "outputId": "39ad88e5-7067-400a-ea03-33f66ae64df7"
   },
   "outputs": [],
   "source": [
    "openai_model"
   ]
  },
  {
   "cell_type": "code",
   "execution_count": null,
   "metadata": {
    "colab": {
     "base_uri": "https://localhost:8080/"
    },
    "id": "5oIXlThGgFkF",
    "outputId": "f6157e8a-55e7-45f2-db70-5f246dfdfad8"
   },
   "outputs": [],
   "source": [
    "parser"
   ]
  },
  {
   "cell_type": "code",
   "execution_count": null,
   "metadata": {
    "id": "oU4DnoWqgPYt"
   },
   "outputs": [],
   "source": [
    "chain = prompt1 | openai_model | parser | prompt2 | openai_model | parser"
   ]
  },
  {
   "cell_type": "code",
   "execution_count": null,
   "metadata": {
    "colab": {
     "base_uri": "https://localhost:8080/"
    },
    "id": "CM3nQ4ewgSM3",
    "outputId": "23068673-d188-4db7-a722-7978cd0845ad"
   },
   "outputs": [],
   "source": [
    "chain.get_graph().print_ascii()"
   ]
  },
  {
   "cell_type": "code",
   "execution_count": null,
   "metadata": {
    "id": "SjuJcRglhtqr"
   },
   "outputs": [],
   "source": [
    "result=chain.invoke({\"text\":text})"
   ]
  },
  {
   "cell_type": "code",
   "execution_count": null,
   "metadata": {
    "colab": {
     "base_uri": "https://localhost:8080/"
    },
    "id": "YddCr8QqhyzK",
    "outputId": "ada75499-b3c9-46eb-c4d9-965d015521f6"
   },
   "outputs": [],
   "source": [
    "print(result)"
   ]
  },
  {
   "cell_type": "markdown",
   "metadata": {
    "id": "ZV40znRCvjNt"
   },
   "source": [
    "#Parallel Chain"
   ]
  },
  {
   "cell_type": "code",
   "execution_count": null,
   "metadata": {
    "id": "5X3EstibvkpD"
   },
   "outputs": [],
   "source": [
    "prompt1=PromptTemplate(\n",
    "    template=\"generate simple summary from the following text \\n {text}\",\n",
    "    input_variables=[\"text\"]\n",
    ")\n",
    "\n",
    "prompt2=PromptTemplate(\n",
    "    template=\"generate 3 question and answer from the following text \\n {text}\",\n",
    "    input_variables=[\"text\"]\n",
    "    )\n",
    "\n",
    "prompt3=PromptTemplate(\n",
    "    template=\"analysis the summary and qa and generate the 5 important quiz with 4 possible answer \\n summary: {summary}, Q&A: {qa}\",\n",
    "    input_variables=[\"summary\",\"qa\"]\n",
    ")"
   ]
  },
  {
   "cell_type": "code",
   "execution_count": null,
   "metadata": {
    "id": "6sRkbm34wKPi"
   },
   "outputs": [],
   "source": [
    "from langchain.schema.runnable import RunnableParallel"
   ]
  },
  {
   "cell_type": "code",
   "execution_count": null,
   "metadata": {
    "id": "rvjxqdfOwPYU"
   },
   "outputs": [],
   "source": [
    "parallel_chain=RunnableParallel({\n",
    "    \"summary\": prompt1 | openai_model | parser,\n",
    "    \"qa\" : prompt2 | openai_model | parser\n",
    "}\n",
    ")"
   ]
  },
  {
   "cell_type": "code",
   "execution_count": null,
   "metadata": {
    "colab": {
     "base_uri": "https://localhost:8080/"
    },
    "id": "MrAjaHD2wRQb",
    "outputId": "79753842-039a-490e-d5cb-86d133b29152"
   },
   "outputs": [],
   "source": [
    "parallel_chain"
   ]
  },
  {
   "cell_type": "code",
   "execution_count": null,
   "metadata": {
    "colab": {
     "base_uri": "https://localhost:8080/"
    },
    "id": "EcgJtL1rwTck",
    "outputId": "9cccfed8-be43-4496-87fa-5d03a1d59d5b"
   },
   "outputs": [],
   "source": [
    "parallel_chain.invoke({\"text\":text})"
   ]
  },
  {
   "cell_type": "code",
   "execution_count": null,
   "metadata": {
    "colab": {
     "base_uri": "https://localhost:8080/"
    },
    "id": "6R8lz05Owt6q",
    "outputId": "d69962a9-9d94-47f5-a77f-4b875f2067bf"
   },
   "outputs": [],
   "source": [
    "{'summary': 'Intelligent agents are a form of digital agency that actively pursues its goals, makes decisions, and takes actions over time. They vary in complexity, from basic control systems to complex human-like entities. These agents operate based on an objective function that represents their goals and plans actions to maximize its expected value. They are a topic of study in various fields, including artificial intelligence, economics, cognitive science, ethics, and philosophy. They can be described as abstract functional systems and are often closely related to software agents that perform tasks for users.\\n\\nIn other terms, intelligent agents are computer programs designed to independently achieve specific objectives, embodying a new level of digital agency by making proactive, goal-oriented decisions over time. They range from simple control mechanisms like thermostats to advanced, human-like systems. These agents are informed by an objective function representing their goals and work towards maximizing its value. They are not only pivotal in AI but also hold importance in fields like economics, cognitive science, philosophy, and ethics.',\n",
    " 'qa': '1) What is an example of a simple intelligent agent?\\nAnswer: A basic thermostat or control system is considered a simple intelligent agent.\\n\\n2) What encapsulates the goals of an intelligent agent and forms the basis for its operations?\\nAnswer: An objective function encapsulates the goals of an intelligent agent and forms the basis for its operations. \\n\\n3) What are software agents in the field of artificial intelligence and how are they related to intelligent agents?\\nAnswer: Software agents are autonomous computer programs that carry out tasks on behalf of users. They are closely related to intelligent agents, often performing tasks and decision making in a proactive manner.'}"
   ]
  },
  {
   "cell_type": "code",
   "execution_count": null,
   "metadata": {
    "id": "mwC-_QgowxFK"
   },
   "outputs": [],
   "source": [
    "#Intelligent agents, also known as AI agents, are preemptive agents that perform certain actions to achieve predefined goals. They extend the concept of conventional agents by not only responding but also acting preemptively, making decisions, and taking actions over an extended period. These AI agents can range from simple systems like a thermostat to more complex beings like humans or even larger systems such as firms, states, or biomes.\n",
    "\n",
    "#The behavior of these intelligent agents is driven by an objective function that encapsulates their targets. They function with the aim of maximizing the expected value of this objective function. Notable examples include a reinforcement learning agent guided by a reward function, and an evolutionary algorithm steered by a fitness function. The reward function for the reinforcement learning agent plays a crucial role by allowing programmers to shape its desired behavior. Similarly, the fitness function acts as the steering wheel for an evolutionary algorithm's behavior.\n",
    "\n",
    "#The paradigms of intelligent agents are probed in various fields such as cognitive science, ethics, philosophy, and computer social simulations. These agents are often described in abstract terms, making them highly similar to computer programs. This schematic description often results in them being referred to as abstract intelligent agents or, borrowing a term from economics, \"rational agents\". Also, they have a close relation to software agents, which are autonomous computer programs that carry out tasks on behalf of users. Such software agents are another key application of the concept of intelligent agents"
   ]
  },
  {
   "cell_type": "code",
   "execution_count": null,
   "metadata": {
    "id": "wCAW1tmxwzqy"
   },
   "outputs": [],
   "source": [
    "merge_chain= prompt3 | openai_model | parser"
   ]
  },
  {
   "cell_type": "code",
   "execution_count": null,
   "metadata": {
    "id": "Oye5FDnGw1-b"
   },
   "outputs": [],
   "source": [
    "chain = parallel_chain | merge_chain"
   ]
  },
  {
   "cell_type": "code",
   "execution_count": null,
   "metadata": {
    "colab": {
     "base_uri": "https://localhost:8080/"
    },
    "id": "a7DD8rK-w38s",
    "outputId": "ca0cbc4d-809b-4705-ab3c-079e2d1843cb"
   },
   "outputs": [],
   "source": [
    "chain.get_graph().print_ascii()"
   ]
  },
  {
   "cell_type": "code",
   "execution_count": null,
   "metadata": {
    "id": "isLC--X41OS-"
   },
   "outputs": [],
   "source": [
    "text=\"\"\"AI agent or simply agent), expands this concept by proactively pursuing goals, making decisions, and taking actions over extended periods, thereby exemplifying a novel form of digital agency.[1]\n",
    "\n",
    "Intelligent agents can range from simple to highly complex. A basic thermostat or control system is considered an intelligent agent, as is a human being, or any other system that meets the same criteria—such as a firm, a state, or a biome.[2]\n",
    "\n",
    "Intelligent agents operate based on an objective function, which encapsulates their goals. They are designed to create and execute plans that maximize the expected value of this function upon completion.[3] For example, a reinforcement learning agent has a reward function, which allows programmers to shape its desired behavior.[4] Similarly, an evolutionary algorithm's behavior is guided by a fitness function.[5]\n",
    "\n",
    "Intelligent agents in artificial intelligence are closely related to agents in economics, and versions of the intelligent agent paradigm are studied in cognitive science, ethics, and the philosophy of practical reason, as well as in many interdisciplinary socio-cognitive modeling and computer social simulations.\n",
    "\n",
    "Intelligent agents are often described schematically as abstract functional systems similar to computer programs. To distinguish theoretical models from real-world implementations, abstract descriptions of intelligent agents are called abstract intelligent agents. Intelligent agents are also closely related to software agents—autonomous computer programs that carry out tasks on behalf of users. They are also referred to using a term borrowed from economics: a \"rational agent\".[2]\"\"\""
   ]
  },
  {
   "cell_type": "code",
   "execution_count": null,
   "metadata": {
    "id": "K25w3iKk1Qwl"
   },
   "outputs": [],
   "source": [
    "result=chain.invoke({\"text\":text})"
   ]
  },
  {
   "cell_type": "code",
   "execution_count": null,
   "metadata": {
    "colab": {
     "base_uri": "https://localhost:8080/"
    },
    "id": "2efrJfku1SEc",
    "outputId": "706967ad-a4a3-47e7-91a5-c0cd654541a7"
   },
   "outputs": [],
   "source": [
    "print(result)"
   ]
  }
 ],
 "metadata": {
  "colab": {
   "provenance": []
  },
  "kernelspec": {
   "display_name": "Python 3",
   "name": "python3"
  },
  "language_info": {
   "name": "python"
  }
 },
 "nbformat": 4,
 "nbformat_minor": 0
}
